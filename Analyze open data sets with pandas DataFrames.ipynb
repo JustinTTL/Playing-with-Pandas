{
 "cells": [
  {
   "cell_type": "markdown",
   "metadata": {
    "deletable": true,
    "editable": true
   },
   "source": [
    "# Analyze open data sets with pandas DataFrames\n",
    "\n",
    "In this notebook, you'll learn how to use open data from the data sets on the Data Science Experience home page in a Python notebook. You will load, clean, and explore the data with pandas DataFrames. \n",
    "\n",
    "Some familiarity with Python is recommended.\n",
    "\n",
    "The data sets for this notebook are from the World Development Indicators (WDI) data set. The WDI data set is a statistical benchmark that helps measure the progress of human development. The WDI data set draws on data from the World Bank and more than 30 partners. You'll look at seven key development variables, sorted by country and year.\n",
    "\n",
    "## Learning goals\n",
    "\n",
    "1. Access data from the Data Science Experience home page.\n",
    "1. Merge multiple data sets in pandas DataFrames.\n",
    "1. Structure data for analysis.\n",
    "1. Generate summary statistics.\n",
    "1. Create charts with custom formatting.\n",
    "1. Show relationships between all variables."
   ]
  },
  {
   "cell_type": "code",
   "execution_count": 1,
   "metadata": {
    "collapsed": false,
    "deletable": true,
    "editable": true
   },
   "outputs": [],
   "source": [
    "# Import Some Modules\n",
    "import numpy as np\n",
    "import pandas as pd\n",
    "import seaborn as sns\n",
    "\n",
    "import matplotlib.pyplot as plt\n",
    "import matplotlib; matplotlib.style.use('ggplot')\n",
    "\n",
    "# inline plots\n",
    "%matplotlib inline"
   ]
  },
  {
   "cell_type": "markdown",
   "metadata": {
    "deletable": true,
    "editable": true
   },
   "source": [
    "## Table of contents\n",
    "The main parts of this notebook are:\n",
    "1. [Load data into DataFrames](#load)\n",
    "    1. [Load the first data set](#first)\n",
    "    1. [Load another data set](#loadsecond)\n",
    "    1. [Join the DataFrames](#joindataframes)\n",
    "    1. [Add more data](#loadmore)\n",
    "    1. [Create a MultiIndex](#multiindex)\n",
    "1. [Check the data](#check)\n",
    "1. [Analyze the data](#analysis)\n",
    "    1. [Create scatter plots with matplotlib](#matplotlib)\n",
    "    1. [Create a scatter plot matrix](#matrix)\n",
    "1. [Next steps](#summary)"
   ]
  },
  {
   "cell_type": "markdown",
   "metadata": {
    "deletable": true,
    "editable": true
   },
   "source": [
    "<a id=\"load\"></a>\n",
    "## 1. Load data into DataFrames\n",
    "\n",
    "To load the data, you obtain access key links and put them into the code to create pandas DataFrames. You will load data into multiple DataFrames and then merge the DataFrames and create a MultiIndex to structure the data for analysis."
   ]
  },
  {
   "cell_type": "markdown",
   "metadata": {
    "deletable": true,
    "editable": true
   },
   "source": [
    "<a id=\"first\"></a>\n",
    "### A. Load the first data set\n",
    "\n",
    "The first data set that you'll load contains life expectancy data.\n",
    "\n",
    "To get your access key link and load the first data set:\n",
    "1. Find the data set and get the access key link:\n",
    "    1. On the Data Science Experience home page, search for \"life expectancy.\"\n",
    "    1. Click the card with the title [Life expectancy at birth by country in total years](https://apsportal.ibm.com/exchange/public/entry/view/f15be429051727172e0d0c226e2ce895).\n",
    "    1. Click the link button.\n",
    "    1. Hover above the link button next to the access key to display the link.\n",
    "    1. Double-click the link to select it, copy the link, and click **Close**.\n",
    "    1. Insert the access key link and run the cell to load the data:\n",
    "    1. In the cell below, replace the **LINK-TO-DATA** string in the `read_csv()` method with the link.\n",
    "    1. Run the following cell to import the pandas and numpy libraries, rename and load three columns of the data into the DataFrame, and show the first five rows of data."
   ]
  },
  {
   "cell_type": "code",
   "execution_count": 2,
   "metadata": {
    "collapsed": false,
    "deletable": true,
    "editable": true
   },
   "outputs": [
    {
     "data": {
      "text/html": [
       "<div>\n",
       "<table border=\"1\" class=\"dataframe\">\n",
       "  <thead>\n",
       "    <tr style=\"text-align: right;\">\n",
       "      <th></th>\n",
       "      <th>country</th>\n",
       "      <th>year</th>\n",
       "      <th>life</th>\n",
       "    </tr>\n",
       "  </thead>\n",
       "  <tbody>\n",
       "    <tr>\n",
       "      <th>0</th>\n",
       "      <td>Afghanistan</td>\n",
       "      <td>2012</td>\n",
       "      <td>60.509122</td>\n",
       "    </tr>\n",
       "    <tr>\n",
       "      <th>1</th>\n",
       "      <td>Afghanistan</td>\n",
       "      <td>2011</td>\n",
       "      <td>60.065366</td>\n",
       "    </tr>\n",
       "    <tr>\n",
       "      <th>2</th>\n",
       "      <td>Afghanistan</td>\n",
       "      <td>2010</td>\n",
       "      <td>59.600098</td>\n",
       "    </tr>\n",
       "    <tr>\n",
       "      <th>3</th>\n",
       "      <td>Afghanistan</td>\n",
       "      <td>2009</td>\n",
       "      <td>59.112341</td>\n",
       "    </tr>\n",
       "    <tr>\n",
       "      <th>4</th>\n",
       "      <td>Afghanistan</td>\n",
       "      <td>2008</td>\n",
       "      <td>58.607098</td>\n",
       "    </tr>\n",
       "    <tr>\n",
       "      <th>5</th>\n",
       "      <td>Afghanistan</td>\n",
       "      <td>2007</td>\n",
       "      <td>58.091366</td>\n",
       "    </tr>\n",
       "    <tr>\n",
       "      <th>6</th>\n",
       "      <td>Afghanistan</td>\n",
       "      <td>2006</td>\n",
       "      <td>57.570659</td>\n",
       "    </tr>\n",
       "    <tr>\n",
       "      <th>7</th>\n",
       "      <td>Afghanistan</td>\n",
       "      <td>2005</td>\n",
       "      <td>57.058439</td>\n",
       "    </tr>\n",
       "    <tr>\n",
       "      <th>8</th>\n",
       "      <td>Afghanistan</td>\n",
       "      <td>2004</td>\n",
       "      <td>56.569732</td>\n",
       "    </tr>\n",
       "    <tr>\n",
       "      <th>9</th>\n",
       "      <td>Afghanistan</td>\n",
       "      <td>2003</td>\n",
       "      <td>56.107561</td>\n",
       "    </tr>\n",
       "    <tr>\n",
       "      <th>10</th>\n",
       "      <td>Afghanistan</td>\n",
       "      <td>2002</td>\n",
       "      <td>55.671878</td>\n",
       "    </tr>\n",
       "    <tr>\n",
       "      <th>11</th>\n",
       "      <td>Afghanistan</td>\n",
       "      <td>2001</td>\n",
       "      <td>55.256220</td>\n",
       "    </tr>\n",
       "    <tr>\n",
       "      <th>12</th>\n",
       "      <td>Afghanistan</td>\n",
       "      <td>2000</td>\n",
       "      <td>54.848561</td>\n",
       "    </tr>\n",
       "    <tr>\n",
       "      <th>13</th>\n",
       "      <td>Afghanistan</td>\n",
       "      <td>1999</td>\n",
       "      <td>54.432878</td>\n",
       "    </tr>\n",
       "    <tr>\n",
       "      <th>14</th>\n",
       "      <td>Afghanistan</td>\n",
       "      <td>1998</td>\n",
       "      <td>53.992195</td>\n",
       "    </tr>\n",
       "    <tr>\n",
       "      <th>15</th>\n",
       "      <td>Afghanistan</td>\n",
       "      <td>1997</td>\n",
       "      <td>53.508488</td>\n",
       "    </tr>\n",
       "    <tr>\n",
       "      <th>16</th>\n",
       "      <td>Afghanistan</td>\n",
       "      <td>1996</td>\n",
       "      <td>52.972780</td>\n",
       "    </tr>\n",
       "    <tr>\n",
       "      <th>17</th>\n",
       "      <td>Afghanistan</td>\n",
       "      <td>1995</td>\n",
       "      <td>52.375073</td>\n",
       "    </tr>\n",
       "    <tr>\n",
       "      <th>18</th>\n",
       "      <td>Afghanistan</td>\n",
       "      <td>1994</td>\n",
       "      <td>51.709390</td>\n",
       "    </tr>\n",
       "    <tr>\n",
       "      <th>19</th>\n",
       "      <td>Afghanistan</td>\n",
       "      <td>1993</td>\n",
       "      <td>50.985244</td>\n",
       "    </tr>\n",
       "  </tbody>\n",
       "</table>\n",
       "</div>"
      ],
      "text/plain": [
       "        country  year       life\n",
       "0   Afghanistan  2012  60.509122\n",
       "1   Afghanistan  2011  60.065366\n",
       "2   Afghanistan  2010  59.600098\n",
       "3   Afghanistan  2009  59.112341\n",
       "4   Afghanistan  2008  58.607098\n",
       "5   Afghanistan  2007  58.091366\n",
       "6   Afghanistan  2006  57.570659\n",
       "7   Afghanistan  2005  57.058439\n",
       "8   Afghanistan  2004  56.569732\n",
       "9   Afghanistan  2003  56.107561\n",
       "10  Afghanistan  2002  55.671878\n",
       "11  Afghanistan  2001  55.256220\n",
       "12  Afghanistan  2000  54.848561\n",
       "13  Afghanistan  1999  54.432878\n",
       "14  Afghanistan  1998  53.992195\n",
       "15  Afghanistan  1997  53.508488\n",
       "16  Afghanistan  1996  52.972780\n",
       "17  Afghanistan  1995  52.375073\n",
       "18  Afghanistan  1994  51.709390\n",
       "19  Afghanistan  1993  50.985244"
      ]
     },
     "execution_count": 2,
     "metadata": {},
     "output_type": "execute_result"
    }
   ],
   "source": [
    "# life expectancy at birth in years\n",
    "life = pd.read_csv(\"data/UNdata_life_expectancy_at_birth_total_years.csv\",usecols=['Country or Area','Year','Value'])\n",
    "life.columns = ['country','year','life']\n",
    "life.head(20)"
   ]
  },
  {
   "cell_type": "markdown",
   "metadata": {
    "deletable": true,
    "editable": true
   },
   "source": [
    "<a id=\"loadsecond\"></a>\n",
    "### B. Load another data set\n",
    "\n",
    "The life expectancy figures are more meaningful if you combine them with other data sets. Get an access key link for this data set: [Total population by country](https://apsportal.ibm.com/exchange/public/entry/view/889ca053a19986a4445839358a91963e). Paste your link in the following cell, which loads three columns of the data and prints the number of countries in each data set: "
   ]
  },
  {
   "cell_type": "code",
   "execution_count": 3,
   "metadata": {
    "collapsed": false,
    "deletable": true,
    "editable": true
   },
   "outputs": [
    {
     "data": {
      "text/html": [
       "<div>\n",
       "<table border=\"1\" class=\"dataframe\">\n",
       "  <thead>\n",
       "    <tr style=\"text-align: right;\">\n",
       "      <th></th>\n",
       "      <th>country</th>\n",
       "      <th>year</th>\n",
       "      <th>population</th>\n",
       "    </tr>\n",
       "  </thead>\n",
       "  <tbody>\n",
       "    <tr>\n",
       "      <th>0</th>\n",
       "      <td>Afghanistan</td>\n",
       "      <td>2013</td>\n",
       "      <td>30551674.0</td>\n",
       "    </tr>\n",
       "    <tr>\n",
       "      <th>1</th>\n",
       "      <td>Afghanistan</td>\n",
       "      <td>2012</td>\n",
       "      <td>29824536.0</td>\n",
       "    </tr>\n",
       "    <tr>\n",
       "      <th>2</th>\n",
       "      <td>Afghanistan</td>\n",
       "      <td>2011</td>\n",
       "      <td>29105480.0</td>\n",
       "    </tr>\n",
       "    <tr>\n",
       "      <th>3</th>\n",
       "      <td>Afghanistan</td>\n",
       "      <td>2010</td>\n",
       "      <td>28397812.0</td>\n",
       "    </tr>\n",
       "    <tr>\n",
       "      <th>4</th>\n",
       "      <td>Afghanistan</td>\n",
       "      <td>2009</td>\n",
       "      <td>27708187.0</td>\n",
       "    </tr>\n",
       "  </tbody>\n",
       "</table>\n",
       "</div>"
      ],
      "text/plain": [
       "       country  year  population\n",
       "0  Afghanistan  2013  30551674.0\n",
       "1  Afghanistan  2012  29824536.0\n",
       "2  Afghanistan  2011  29105480.0\n",
       "3  Afghanistan  2010  28397812.0\n",
       "4  Afghanistan  2009  27708187.0"
      ]
     },
     "execution_count": 3,
     "metadata": {},
     "output_type": "execute_result"
    }
   ],
   "source": [
    "# population\n",
    "population = pd.read_csv(\"data/UNdata_population_total.csv\",usecols=['Country or Area', 'Year','Value'])\n",
    "population.columns = ['country', 'year','population']\n",
    "population.head(5)"
   ]
  },
  {
   "cell_type": "code",
   "execution_count": 4,
   "metadata": {
    "collapsed": false,
    "deletable": true,
    "editable": true
   },
   "outputs": [
    {
     "name": "stdout",
     "output_type": "stream",
     "text": [
      "Nr of countries in life: 246\n",
      "Nr of countries in population: 245\n"
     ]
    }
   ],
   "source": [
    "print \"Nr of countries in life:\", np.size(np.unique(life['country']))\n",
    "print \"Nr of countries in population:\", np.size(np.unique(population['country']))"
   ]
  },
  {
   "cell_type": "code",
   "execution_count": 5,
   "metadata": {
    "collapsed": false,
    "deletable": true,
    "editable": true
   },
   "outputs": [
    {
     "data": {
      "text/plain": [
       "dtype('O')"
      ]
     },
     "execution_count": 5,
     "metadata": {},
     "output_type": "execute_result"
    }
   ],
   "source": [
    "life.year.dtype"
   ]
  },
  {
   "cell_type": "code",
   "execution_count": 6,
   "metadata": {
    "collapsed": false,
    "deletable": true,
    "editable": true
   },
   "outputs": [
    {
     "data": {
      "text/plain": [
       "dtype('int64')"
      ]
     },
     "execution_count": 6,
     "metadata": {},
     "output_type": "execute_result"
    }
   ],
   "source": [
    "population.year.dtype"
   ]
  },
  {
   "cell_type": "markdown",
   "metadata": {
    "deletable": true,
    "editable": true
   },
   "source": [
    "### Masking and Data Scrubbing\n",
    "Data is sometimes (ALWAYS) dirty. To make analysis easy, we have to first \"scrub\" them\n",
    "* Remove Bad entries\n",
    "* Filter/ Fill missing NAN values (or not!)"
   ]
  },
  {
   "cell_type": "code",
   "execution_count": 7,
   "metadata": {
    "collapsed": false,
    "deletable": true,
    "editable": true
   },
   "outputs": [
    {
     "data": {
      "text/html": [
       "<div>\n",
       "<table border=\"1\" class=\"dataframe\">\n",
       "  <thead>\n",
       "    <tr style=\"text-align: right;\">\n",
       "      <th></th>\n",
       "      <th>country</th>\n",
       "      <th>year</th>\n",
       "      <th>life</th>\n",
       "    </tr>\n",
       "  </thead>\n",
       "  <tbody>\n",
       "    <tr>\n",
       "      <th>11969</th>\n",
       "      <td>footnoteSeqID</td>\n",
       "      <td>Footnote</td>\n",
       "      <td>NaN</td>\n",
       "    </tr>\n",
       "    <tr>\n",
       "      <th>11970</th>\n",
       "      <td>2</td>\n",
       "      <td>Derived using linearly extrapolated data</td>\n",
       "      <td>NaN</td>\n",
       "    </tr>\n",
       "    <tr>\n",
       "      <th>11971</th>\n",
       "      <td>3</td>\n",
       "      <td>Derived using linearly interpolated data</td>\n",
       "      <td>NaN</td>\n",
       "    </tr>\n",
       "    <tr>\n",
       "      <th>11972</th>\n",
       "      <td>4</td>\n",
       "      <td>Derived using extrapolated data assuming the s...</td>\n",
       "      <td>NaN</td>\n",
       "    </tr>\n",
       "    <tr>\n",
       "      <th>11973</th>\n",
       "      <td>5</td>\n",
       "      <td>Derived using interpolated data</td>\n",
       "      <td>NaN</td>\n",
       "    </tr>\n",
       "  </tbody>\n",
       "</table>\n",
       "</div>"
      ],
      "text/plain": [
       "             country                                               year  life\n",
       "11969  footnoteSeqID                                           Footnote   NaN\n",
       "11970              2           Derived using linearly extrapolated data   NaN\n",
       "11971              3           Derived using linearly interpolated data   NaN\n",
       "11972              4  Derived using extrapolated data assuming the s...   NaN\n",
       "11973              5                    Derived using interpolated data   NaN"
      ]
     },
     "execution_count": 7,
     "metadata": {},
     "output_type": "execute_result"
    }
   ],
   "source": [
    "# Using masks and apply lambda functions!\n",
    "# A mask is just a boolean dataframe/series with dimensions of the original dataframe\n",
    "\n",
    "life[life.year.apply(lambda x: not x.isdigit())].head()"
   ]
  },
  {
   "cell_type": "code",
   "execution_count": 8,
   "metadata": {
    "collapsed": false,
    "deletable": true,
    "editable": true
   },
   "outputs": [],
   "source": [
    "# Remove non-numeric rows!\n",
    "life = life[life.year.apply(lambda x: x.isdigit())]"
   ]
  },
  {
   "cell_type": "code",
   "execution_count": 9,
   "metadata": {
    "collapsed": false,
    "deletable": true,
    "editable": true
   },
   "outputs": [],
   "source": [
    "# Change to Float (preferred numeric format of dataframe)\n",
    "life['year'] = life['year'].astype(float)\n",
    "population['year'] = population['year'].astype(float)"
   ]
  },
  {
   "cell_type": "code",
   "execution_count": 10,
   "metadata": {
    "collapsed": false,
    "deletable": true,
    "editable": true
   },
   "outputs": [
    {
     "name": "stdout",
     "output_type": "stream",
     "text": [
      "<class 'pandas.core.frame.DataFrame'>\n",
      "Int64Index: 11969 entries, 0 to 11968\n",
      "Data columns (total 3 columns):\n",
      "country    11969 non-null object\n",
      "year       11969 non-null float64\n",
      "life       11969 non-null float64\n",
      "dtypes: float64(2), object(1)\n",
      "memory usage: 374.0+ KB\n",
      "\n",
      "<class 'pandas.core.frame.DataFrame'>\n",
      "RangeIndex: 13121 entries, 0 to 13120\n",
      "Data columns (total 3 columns):\n",
      "country       13121 non-null object\n",
      "year          13121 non-null float64\n",
      "population    13091 non-null float64\n",
      "dtypes: float64(2), object(1)\n",
      "memory usage: 307.6+ KB\n"
     ]
    }
   ],
   "source": [
    "life.info()\n",
    "print \"\"\n",
    "population.info()"
   ]
  },
  {
   "cell_type": "markdown",
   "metadata": {
    "deletable": true,
    "editable": true
   },
   "source": [
    "## Join DataFrames\n",
    "\n",
    "As you can see, the two data sets don't fit together perfectly: one contains more countries than the other. When you join two DataFrames, it's common to introduce nulls or NaNs (a value that's not a number when a number is expected) into the resulting DataFrame. \n",
    "\n",
    "Use the pandas `merge` function to make the data fit together. In the following cell, the `how='outer'` option specifies to keep the data from the `life` and `population` columns. The `on=['country','year']` option specifies which columns to merge on. To view the options for the `merge` function, see [Merge, join, and concatentate](http://pandas.pydata.org/pandas-docs/stable/merging.html). "
   ]
  },
  {
   "cell_type": "code",
   "execution_count": 11,
   "metadata": {
    "collapsed": false,
    "deletable": true,
    "editable": true,
    "scrolled": true
   },
   "outputs": [],
   "source": [
    "df = pd.merge(life, population, how='outer', sort=True, on=['country','year'])"
   ]
  },
  {
   "cell_type": "code",
   "execution_count": 12,
   "metadata": {
    "collapsed": false,
    "deletable": true,
    "editable": true
   },
   "outputs": [
    {
     "name": "stdout",
     "output_type": "stream",
     "text": [
      "<class 'pandas.core.frame.DataFrame'>\n",
      "Int64Index: 13124 entries, 0 to 13123\n",
      "Data columns (total 4 columns):\n",
      "country       13124 non-null object\n",
      "year          13124 non-null float64\n",
      "life          11969 non-null float64\n",
      "population    13091 non-null float64\n",
      "dtypes: float64(3), object(1)\n",
      "memory usage: 512.7+ KB\n"
     ]
    },
    {
     "data": {
      "text/plain": [
       "country          0\n",
       "year             0\n",
       "life          1155\n",
       "population      33\n",
       "dtype: int64"
      ]
     },
     "execution_count": 12,
     "metadata": {},
     "output_type": "execute_result"
    }
   ],
   "source": [
    "# Check integrity of data\n",
    "df.info()\n",
    "df.isnull().sum()"
   ]
  },
  {
   "cell_type": "code",
   "execution_count": 13,
   "metadata": {
    "collapsed": false,
    "deletable": true,
    "editable": true
   },
   "outputs": [
    {
     "data": {
      "text/html": [
       "<div>\n",
       "<table border=\"1\" class=\"dataframe\">\n",
       "  <thead>\n",
       "    <tr style=\"text-align: right;\">\n",
       "      <th></th>\n",
       "      <th>country</th>\n",
       "      <th>year</th>\n",
       "      <th>life</th>\n",
       "      <th>population</th>\n",
       "    </tr>\n",
       "  </thead>\n",
       "  <tbody>\n",
       "    <tr>\n",
       "      <th>0</th>\n",
       "      <td>Afghanistan</td>\n",
       "      <td>1960.0</td>\n",
       "      <td>31.580049</td>\n",
       "      <td>8774440.0</td>\n",
       "    </tr>\n",
       "    <tr>\n",
       "      <th>1</th>\n",
       "      <td>Afghanistan</td>\n",
       "      <td>1961.0</td>\n",
       "      <td>32.095976</td>\n",
       "      <td>8953544.0</td>\n",
       "    </tr>\n",
       "    <tr>\n",
       "      <th>2</th>\n",
       "      <td>Afghanistan</td>\n",
       "      <td>1962.0</td>\n",
       "      <td>32.611878</td>\n",
       "      <td>9141783.0</td>\n",
       "    </tr>\n",
       "    <tr>\n",
       "      <th>3</th>\n",
       "      <td>Afghanistan</td>\n",
       "      <td>1963.0</td>\n",
       "      <td>33.127317</td>\n",
       "      <td>9339507.0</td>\n",
       "    </tr>\n",
       "    <tr>\n",
       "      <th>4</th>\n",
       "      <td>Afghanistan</td>\n",
       "      <td>1964.0</td>\n",
       "      <td>33.641244</td>\n",
       "      <td>9547131.0</td>\n",
       "    </tr>\n",
       "  </tbody>\n",
       "</table>\n",
       "</div>"
      ],
      "text/plain": [
       "       country    year       life  population\n",
       "0  Afghanistan  1960.0  31.580049   8774440.0\n",
       "1  Afghanistan  1961.0  32.095976   8953544.0\n",
       "2  Afghanistan  1962.0  32.611878   9141783.0\n",
       "3  Afghanistan  1963.0  33.127317   9339507.0\n",
       "4  Afghanistan  1964.0  33.641244   9547131.0"
      ]
     },
     "execution_count": 13,
     "metadata": {},
     "output_type": "execute_result"
    }
   ],
   "source": [
    "df.head()"
   ]
  },
  {
   "cell_type": "code",
   "execution_count": 14,
   "metadata": {
    "collapsed": false,
    "deletable": true,
    "editable": true
   },
   "outputs": [
    {
     "data": {
      "text/html": [
       "<div>\n",
       "<table border=\"1\" class=\"dataframe\">\n",
       "  <thead>\n",
       "    <tr style=\"text-align: right;\">\n",
       "      <th></th>\n",
       "      <th>year</th>\n",
       "      <th>life</th>\n",
       "      <th>population</th>\n",
       "    </tr>\n",
       "    <tr>\n",
       "      <th>country</th>\n",
       "      <th></th>\n",
       "      <th></th>\n",
       "      <th></th>\n",
       "    </tr>\n",
       "  </thead>\n",
       "  <tbody>\n",
       "    <tr>\n",
       "      <th>World</th>\n",
       "      <td>1986.5</td>\n",
       "      <td>63.752502</td>\n",
       "      <td>5.008097e+09</td>\n",
       "    </tr>\n",
       "    <tr>\n",
       "      <th>Low &amp; middle income</th>\n",
       "      <td>1986.5</td>\n",
       "      <td>60.697168</td>\n",
       "      <td>3.904088e+09</td>\n",
       "    </tr>\n",
       "    <tr>\n",
       "      <th>Middle income</th>\n",
       "      <td>1986.5</td>\n",
       "      <td>61.954126</td>\n",
       "      <td>3.418550e+09</td>\n",
       "    </tr>\n",
       "    <tr>\n",
       "      <th>Upper middle income</th>\n",
       "      <td>1986.5</td>\n",
       "      <td>65.769969</td>\n",
       "      <td>1.778217e+09</td>\n",
       "    </tr>\n",
       "    <tr>\n",
       "      <th>East Asia &amp; Pacific (all income levels)</th>\n",
       "      <td>1986.5</td>\n",
       "      <td>66.344457</td>\n",
       "      <td>1.695653e+09</td>\n",
       "    </tr>\n",
       "    <tr>\n",
       "      <th>Lower middle income</th>\n",
       "      <td>1986.5</td>\n",
       "      <td>57.737533</td>\n",
       "      <td>1.640333e+09</td>\n",
       "    </tr>\n",
       "    <tr>\n",
       "      <th>East Asia &amp; Pacific (developing only)</th>\n",
       "      <td>1986.5</td>\n",
       "      <td>65.107053</td>\n",
       "      <td>1.490551e+09</td>\n",
       "    </tr>\n",
       "    <tr>\n",
       "      <th>High income</th>\n",
       "      <td>1986.5</td>\n",
       "      <td>73.603806</td>\n",
       "      <td>1.104008e+09</td>\n",
       "    </tr>\n",
       "    <tr>\n",
       "      <th>South Asia</th>\n",
       "      <td>1986.5</td>\n",
       "      <td>56.502828</td>\n",
       "      <td>1.078283e+09</td>\n",
       "    </tr>\n",
       "    <tr>\n",
       "      <th>China</th>\n",
       "      <td>1986.5</td>\n",
       "      <td>66.247287</td>\n",
       "      <td>1.055207e+09</td>\n",
       "    </tr>\n",
       "  </tbody>\n",
       "</table>\n",
       "</div>"
      ],
      "text/plain": [
       "                                           year       life    population\n",
       "country                                                                 \n",
       "World                                    1986.5  63.752502  5.008097e+09\n",
       "Low & middle income                      1986.5  60.697168  3.904088e+09\n",
       "Middle income                            1986.5  61.954126  3.418550e+09\n",
       "Upper middle income                      1986.5  65.769969  1.778217e+09\n",
       "East Asia & Pacific (all income levels)  1986.5  66.344457  1.695653e+09\n",
       "Lower middle income                      1986.5  57.737533  1.640333e+09\n",
       "East Asia & Pacific (developing only)    1986.5  65.107053  1.490551e+09\n",
       "High income                              1986.5  73.603806  1.104008e+09\n",
       "South Asia                               1986.5  56.502828  1.078283e+09\n",
       "China                                    1986.5  66.247287  1.055207e+09"
      ]
     },
     "execution_count": 14,
     "metadata": {},
     "output_type": "execute_result"
    }
   ],
   "source": [
    "df.groupby(\"country\").mean().sort_values(\"population\", ascending = False).head(10)"
   ]
  },
  {
   "cell_type": "code",
   "execution_count": 15,
   "metadata": {
    "collapsed": false,
    "deletable": true,
    "editable": true,
    "scrolled": false
   },
   "outputs": [
    {
     "data": {
      "text/html": [
       "<div>\n",
       "<table border=\"1\" class=\"dataframe\">\n",
       "  <thead>\n",
       "    <tr style=\"text-align: right;\">\n",
       "      <th></th>\n",
       "      <th>index</th>\n",
       "      <th>country</th>\n",
       "      <th>year</th>\n",
       "      <th>life</th>\n",
       "      <th>population</th>\n",
       "    </tr>\n",
       "  </thead>\n",
       "  <tbody>\n",
       "    <tr>\n",
       "      <th>0</th>\n",
       "      <td>2321</td>\n",
       "      <td>China</td>\n",
       "      <td>2013.0</td>\n",
       "      <td>NaN</td>\n",
       "      <td>1.357380e+09</td>\n",
       "    </tr>\n",
       "    <tr>\n",
       "      <th>1</th>\n",
       "      <td>2320</td>\n",
       "      <td>China</td>\n",
       "      <td>2012.0</td>\n",
       "      <td>75.199512</td>\n",
       "      <td>1.350695e+09</td>\n",
       "    </tr>\n",
       "    <tr>\n",
       "      <th>2</th>\n",
       "      <td>2319</td>\n",
       "      <td>China</td>\n",
       "      <td>2011.0</td>\n",
       "      <td>75.042000</td>\n",
       "      <td>1.344130e+09</td>\n",
       "    </tr>\n",
       "    <tr>\n",
       "      <th>3</th>\n",
       "      <td>2318</td>\n",
       "      <td>China</td>\n",
       "      <td>2010.0</td>\n",
       "      <td>74.885024</td>\n",
       "      <td>1.337705e+09</td>\n",
       "    </tr>\n",
       "    <tr>\n",
       "      <th>4</th>\n",
       "      <td>2317</td>\n",
       "      <td>China</td>\n",
       "      <td>2009.0</td>\n",
       "      <td>74.731634</td>\n",
       "      <td>1.331260e+09</td>\n",
       "    </tr>\n",
       "    <tr>\n",
       "      <th>5</th>\n",
       "      <td>2316</td>\n",
       "      <td>China</td>\n",
       "      <td>2008.0</td>\n",
       "      <td>74.579829</td>\n",
       "      <td>1.324655e+09</td>\n",
       "    </tr>\n",
       "    <tr>\n",
       "      <th>6</th>\n",
       "      <td>2315</td>\n",
       "      <td>China</td>\n",
       "      <td>2007.0</td>\n",
       "      <td>74.424073</td>\n",
       "      <td>1.317885e+09</td>\n",
       "    </tr>\n",
       "    <tr>\n",
       "      <th>7</th>\n",
       "      <td>2314</td>\n",
       "      <td>China</td>\n",
       "      <td>2006.0</td>\n",
       "      <td>74.256317</td>\n",
       "      <td>1.311020e+09</td>\n",
       "    </tr>\n",
       "    <tr>\n",
       "      <th>8</th>\n",
       "      <td>2313</td>\n",
       "      <td>China</td>\n",
       "      <td>2005.0</td>\n",
       "      <td>74.053902</td>\n",
       "      <td>1.303720e+09</td>\n",
       "    </tr>\n",
       "    <tr>\n",
       "      <th>9</th>\n",
       "      <td>2312</td>\n",
       "      <td>China</td>\n",
       "      <td>2004.0</td>\n",
       "      <td>73.793707</td>\n",
       "      <td>1.296075e+09</td>\n",
       "    </tr>\n",
       "  </tbody>\n",
       "</table>\n",
       "</div>"
      ],
      "text/plain": [
       "   index country    year       life    population\n",
       "0   2321   China  2013.0        NaN  1.357380e+09\n",
       "1   2320   China  2012.0  75.199512  1.350695e+09\n",
       "2   2319   China  2011.0  75.042000  1.344130e+09\n",
       "3   2318   China  2010.0  74.885024  1.337705e+09\n",
       "4   2317   China  2009.0  74.731634  1.331260e+09\n",
       "5   2316   China  2008.0  74.579829  1.324655e+09\n",
       "6   2315   China  2007.0  74.424073  1.317885e+09\n",
       "7   2314   China  2006.0  74.256317  1.311020e+09\n",
       "8   2313   China  2005.0  74.053902  1.303720e+09\n",
       "9   2312   China  2004.0  73.793707  1.296075e+09"
      ]
     },
     "execution_count": 15,
     "metadata": {},
     "output_type": "execute_result"
    }
   ],
   "source": [
    "# We Need More Lemon Pledge!\n",
    "filter_countries = [\"World\", \"High income\", \"Low & middle income\", \"Middle income\",\\\n",
    "                    \"Lower middle income\", \"Upper middle income\",\"Low income\", \"East Asia & Pacific (all income levels)\",\\\n",
    "                    \"East Asia & Pacific (developing only)\", \"South Asia\", \"OECD members\", \"High income: OECD\",\\\n",
    "                    \"Sub-Saharan Africa (all income levels)\", \"Sub-Saharan Africa (developing only)\",\\\n",
    "                    \"Europe & Central Asia (all income levels)\", \"Least developed countries: UN classification\",\\\n",
    "                    \"Heavily indebted poor countries (HIPC)\", \"Latin America & Caribbean (all income levels)\",\\\n",
    "                    \"Latin America & Caribbean (developing only)\", \"European Union\",\"Middle East & North Africa (all income levels)\",\\\n",
    "                    \"Middle East & North Africa (developing only)\", \"Euro area\", \"Arab World\", \"Europe & Central Asia (developing only)\",\\\n",
    "                    \"High income: nonOECD\", \"North America\"\n",
    "                    ]\n",
    "\n",
    "df = df[df['country'].apply(lambda x: x not in filter_countries)]\n",
    "df.sort_values(\"population\",ascending = False).reset_index().head(10)"
   ]
  },
  {
   "cell_type": "markdown",
   "metadata": {
    "deletable": true,
    "editable": true
   },
   "source": [
    "### This is getting boring..... Lets PLOT something"
   ]
  },
  {
   "cell_type": "code",
   "execution_count": 16,
   "metadata": {
    "collapsed": false,
    "deletable": true,
    "editable": true
   },
   "outputs": [
    {
     "data": {
      "image/png": "[encoded data removed]",
      "text/plain": [
       "<matplotlib.figure.Figure at 0x7f4db3252990>"
      ]
     },
     "metadata": {},
     "output_type": "display_data"
    }
   ],
   "source": [
    "df.groupby('year').mean()['life'].plot()\n",
    "plt.show()"
   ]
  },
  {
   "cell_type": "code",
   "execution_count": 17,
   "metadata": {
    "collapsed": false,
    "deletable": true,
    "editable": true
   },
   "outputs": [
    {
     "data": {
      "text/html": [
       "<div>\n",
       "<table border=\"1\" class=\"dataframe\">\n",
       "  <thead>\n",
       "    <tr style=\"text-align: right;\">\n",
       "      <th></th>\n",
       "      <th>life</th>\n",
       "      <th>population</th>\n",
       "    </tr>\n",
       "    <tr>\n",
       "      <th>country</th>\n",
       "      <th></th>\n",
       "      <th></th>\n",
       "    </tr>\n",
       "  </thead>\n",
       "  <tbody>\n",
       "    <tr>\n",
       "      <th>San Marino</th>\n",
       "      <td>81.494746</td>\n",
       "      <td>2.348367e+04</td>\n",
       "    </tr>\n",
       "    <tr>\n",
       "      <th>Liechtenstein</th>\n",
       "      <td>79.796534</td>\n",
       "      <td>2.754563e+04</td>\n",
       "    </tr>\n",
       "    <tr>\n",
       "      <th>Faeroe Islands</th>\n",
       "      <td>78.152744</td>\n",
       "      <td>4.373393e+04</td>\n",
       "    </tr>\n",
       "    <tr>\n",
       "      <th>Iceland</th>\n",
       "      <td>77.495377</td>\n",
       "      <td>2.479294e+05</td>\n",
       "    </tr>\n",
       "    <tr>\n",
       "      <th>Isle of Man</th>\n",
       "      <td>77.247561</td>\n",
       "      <td>6.739013e+04</td>\n",
       "    </tr>\n",
       "    <tr>\n",
       "      <th>Sweden</th>\n",
       "      <td>77.157326</td>\n",
       "      <td>8.490987e+06</td>\n",
       "    </tr>\n",
       "    <tr>\n",
       "      <th>Japan</th>\n",
       "      <td>77.107230</td>\n",
       "      <td>1.171442e+08</td>\n",
       "    </tr>\n",
       "    <tr>\n",
       "      <th>Bermuda</th>\n",
       "      <td>77.011644</td>\n",
       "      <td>5.729831e+04</td>\n",
       "    </tr>\n",
       "    <tr>\n",
       "      <th>Switzerland</th>\n",
       "      <td>76.807119</td>\n",
       "      <td>6.688197e+06</td>\n",
       "    </tr>\n",
       "    <tr>\n",
       "      <th>Norway</th>\n",
       "      <td>76.661077</td>\n",
       "      <td>4.226021e+06</td>\n",
       "    </tr>\n",
       "    <tr>\n",
       "      <th>Netherlands</th>\n",
       "      <td>76.454174</td>\n",
       "      <td>1.455851e+07</td>\n",
       "    </tr>\n",
       "    <tr>\n",
       "      <th>Canada</th>\n",
       "      <td>76.227148</td>\n",
       "      <td>2.656919e+07</td>\n",
       "    </tr>\n",
       "    <tr>\n",
       "      <th>St. Martin (French part)</th>\n",
       "      <td>76.161369</td>\n",
       "      <td>1.831346e+04</td>\n",
       "    </tr>\n",
       "    <tr>\n",
       "      <th>Hong Kong SAR, China</th>\n",
       "      <td>76.141369</td>\n",
       "      <td>5.390967e+06</td>\n",
       "    </tr>\n",
       "  </tbody>\n",
       "</table>\n",
       "</div>"
      ],
      "text/plain": [
       "                               life    population\n",
       "country                                          \n",
       "San Marino                81.494746  2.348367e+04\n",
       "Liechtenstein             79.796534  2.754563e+04\n",
       "Faeroe Islands            78.152744  4.373393e+04\n",
       "Iceland                   77.495377  2.479294e+05\n",
       "Isle of Man               77.247561  6.739013e+04\n",
       "Sweden                    77.157326  8.490987e+06\n",
       "Japan                     77.107230  1.171442e+08\n",
       "Bermuda                   77.011644  5.729831e+04\n",
       "Switzerland               76.807119  6.688197e+06\n",
       "Norway                    76.661077  4.226021e+06\n",
       "Netherlands               76.454174  1.455851e+07\n",
       "Canada                    76.227148  2.656919e+07\n",
       "St. Martin (French part)  76.161369  1.831346e+04\n",
       "Hong Kong SAR, China      76.141369  5.390967e+06"
      ]
     },
     "execution_count": 17,
     "metadata": {},
     "output_type": "execute_result"
    }
   ],
   "source": [
    "avg_life = df.drop(\"year\", axis = 1).groupby(\"country\").mean().sort_values(\"life\", ascending = False)\n",
    "avg_life.head(14)"
   ]
  },
  {
   "cell_type": "code",
   "execution_count": 18,
   "metadata": {
    "collapsed": false,
    "deletable": true,
    "editable": true
   },
   "outputs": [
    {
     "data": {
      "text/html": [
       "<div>\n",
       "<table border=\"1\" class=\"dataframe\">\n",
       "  <thead>\n",
       "    <tr style=\"text-align: right;\">\n",
       "      <th></th>\n",
       "      <th>life</th>\n",
       "      <th>population</th>\n",
       "    </tr>\n",
       "    <tr>\n",
       "      <th>country</th>\n",
       "      <th></th>\n",
       "      <th></th>\n",
       "    </tr>\n",
       "  </thead>\n",
       "  <tbody>\n",
       "    <tr>\n",
       "      <th>Rwanda</th>\n",
       "      <td>45.709723</td>\n",
       "      <td>6.328390e+06</td>\n",
       "    </tr>\n",
       "    <tr>\n",
       "      <th>Guinea</th>\n",
       "      <td>45.239984</td>\n",
       "      <td>6.447129e+06</td>\n",
       "    </tr>\n",
       "    <tr>\n",
       "      <th>Malawi</th>\n",
       "      <td>45.063332</td>\n",
       "      <td>8.470915e+06</td>\n",
       "    </tr>\n",
       "    <tr>\n",
       "      <th>Nigeria</th>\n",
       "      <td>45.012043</td>\n",
       "      <td>9.415954e+07</td>\n",
       "    </tr>\n",
       "    <tr>\n",
       "      <th>Chad</th>\n",
       "      <td>44.755199</td>\n",
       "      <td>6.303956e+06</td>\n",
       "    </tr>\n",
       "    <tr>\n",
       "      <th>Central African Republic</th>\n",
       "      <td>44.615013</td>\n",
       "      <td>2.813273e+06</td>\n",
       "    </tr>\n",
       "    <tr>\n",
       "      <th>Equatorial Guinea</th>\n",
       "      <td>44.479256</td>\n",
       "      <td>3.957122e+05</td>\n",
       "    </tr>\n",
       "    <tr>\n",
       "      <th>Niger</th>\n",
       "      <td>43.852782</td>\n",
       "      <td>8.202466e+06</td>\n",
       "    </tr>\n",
       "    <tr>\n",
       "      <th>Mozambique</th>\n",
       "      <td>43.275768</td>\n",
       "      <td>1.451595e+07</td>\n",
       "    </tr>\n",
       "    <tr>\n",
       "      <th>South Sudan</th>\n",
       "      <td>42.480832</td>\n",
       "      <td>5.662798e+06</td>\n",
       "    </tr>\n",
       "    <tr>\n",
       "      <th>Mali</th>\n",
       "      <td>42.117103</td>\n",
       "      <td>8.406656e+06</td>\n",
       "    </tr>\n",
       "    <tr>\n",
       "      <th>Angola</th>\n",
       "      <td>41.465868</td>\n",
       "      <td>1.061080e+07</td>\n",
       "    </tr>\n",
       "    <tr>\n",
       "      <th>Sierra Leone</th>\n",
       "      <td>37.945028</td>\n",
       "      <td>3.700744e+06</td>\n",
       "    </tr>\n",
       "    <tr>\n",
       "      <th>American Samoa</th>\n",
       "      <td>NaN</td>\n",
       "      <td>4.146730e+04</td>\n",
       "    </tr>\n",
       "    <tr>\n",
       "      <th>Andorra</th>\n",
       "      <td>NaN</td>\n",
       "      <td>4.829533e+04</td>\n",
       "    </tr>\n",
       "    <tr>\n",
       "      <th>Cayman Islands</th>\n",
       "      <td>NaN</td>\n",
       "      <td>2.633122e+04</td>\n",
       "    </tr>\n",
       "    <tr>\n",
       "      <th>Monaco</th>\n",
       "      <td>NaN</td>\n",
       "      <td>2.885876e+04</td>\n",
       "    </tr>\n",
       "    <tr>\n",
       "      <th>Northern Mariana Islands</th>\n",
       "      <td>NaN</td>\n",
       "      <td>3.631998e+04</td>\n",
       "    </tr>\n",
       "    <tr>\n",
       "      <th>Turks and Caicos Islands</th>\n",
       "      <td>NaN</td>\n",
       "      <td>1.373030e+04</td>\n",
       "    </tr>\n",
       "    <tr>\n",
       "      <th>Tuvalu</th>\n",
       "      <td>NaN</td>\n",
       "      <td>8.459556e+03</td>\n",
       "    </tr>\n",
       "  </tbody>\n",
       "</table>\n",
       "</div>"
      ],
      "text/plain": [
       "                               life    population\n",
       "country                                          \n",
       "Rwanda                    45.709723  6.328390e+06\n",
       "Guinea                    45.239984  6.447129e+06\n",
       "Malawi                    45.063332  8.470915e+06\n",
       "Nigeria                   45.012043  9.415954e+07\n",
       "Chad                      44.755199  6.303956e+06\n",
       "Central African Republic  44.615013  2.813273e+06\n",
       "Equatorial Guinea         44.479256  3.957122e+05\n",
       "Niger                     43.852782  8.202466e+06\n",
       "Mozambique                43.275768  1.451595e+07\n",
       "South Sudan               42.480832  5.662798e+06\n",
       "Mali                      42.117103  8.406656e+06\n",
       "Angola                    41.465868  1.061080e+07\n",
       "Sierra Leone              37.945028  3.700744e+06\n",
       "American Samoa                  NaN  4.146730e+04\n",
       "Andorra                         NaN  4.829533e+04\n",
       "Cayman Islands                  NaN  2.633122e+04\n",
       "Monaco                          NaN  2.885876e+04\n",
       "Northern Mariana Islands        NaN  3.631998e+04\n",
       "Turks and Caicos Islands        NaN  1.373030e+04\n",
       "Tuvalu                          NaN  8.459556e+03"
      ]
     },
     "execution_count": 18,
     "metadata": {},
     "output_type": "execute_result"
    }
   ],
   "source": [
    "avg_life.tail(20)"
   ]
  },
  {
   "cell_type": "code",
   "execution_count": 19,
   "metadata": {
    "collapsed": false,
    "deletable": true,
    "editable": true
   },
   "outputs": [
    {
     "data": {
      "text/plain": [
       "53.817165778737582"
      ]
     },
     "execution_count": 19,
     "metadata": {},
     "output_type": "execute_result"
    }
   ],
   "source": [
    "median_life = df[['year','life']].groupby(\"year\").mean()\n",
    "median_life.loc[1960][0]"
   ]
  },
  {
   "cell_type": "code",
   "execution_count": 20,
   "metadata": {
    "collapsed": false,
    "deletable": true,
    "editable": true,
    "scrolled": false
   },
   "outputs": [
    {
     "data": {
      "image/png": "[encoded data removed]",
      "text/plain": [
       "<matplotlib.figure.Figure at 0x7f4db3104690>"
      ]
     },
     "metadata": {},
     "output_type": "display_data"
    }
   ],
   "source": [
    "# Line plots are boring. How about a histogram?\n",
    "import time, sys\n",
    "from IPython.display import clear_output, display\n",
    "from pylab import text\n",
    "\n",
    "f, ax = plt.subplots(figsize = (15,8))\n",
    "\n",
    "for year in range(1960,2012):\n",
    "    ax.set_xlim([20,85])\n",
    "    ax.set_ylim([0,0.1])\n",
    "    plt.xlabel('Life Expectancy');\n",
    "    plt.ylabel('Distribution of Countries');\n",
    "    plt.title('Life Expectancy: From 1960 to 2010')\n",
    "    text(0.05, 0.9, str(year), fontsize=20,ha='center', va='center', transform=ax.transAxes)\n",
    "\n",
    "    data = df[df.year == year][\"life\"].dropna()\n",
    "    sns.distplot(data,hist=True, kde=True, rug=False, bins=40);\n",
    "    \n",
    "#     year_df = df[df.year == year]\n",
    "#     median  = median_life.loc[year][0]\n",
    "#     data_low = year_df[year_df.life <= median][\"life\"].dropna()\n",
    "#     data_high = year_df[year_df.life > median][\"life\"].dropna()\n",
    "#     sns.distplot(data_low,hist=True, kde=True, rug=False, bins=30);\n",
    "#     sns.distplot(data_high,hist=True, kde=True, rug=False, bins=30);\n",
    "    \n",
    "    time.sleep(0.0001)\n",
    "    clear_output(True)\n",
    "    display(f)\n",
    "    ax.cla()\n",
    "\n",
    "plt.close()"
   ]
  },
  {
   "cell_type": "code",
   "execution_count": 36,
   "metadata": {
    "collapsed": false,
    "deletable": true,
    "editable": true
   },
   "outputs": [
    {
     "data": {
      "image/png": "[encoded data removed]",
      "text/plain": [
       "<matplotlib.figure.Figure at 0x7f4db0ae8650>"
      ]
     },
     "metadata": {},
     "output_type": "display_data"
    }
   ],
   "source": [
    "def hist_plot(year1, year2):\n",
    "    f, ax = plt.subplots(figsize = (15,7))\n",
    "    clear_output(True)\n",
    "    plt.clf()\n",
    "    data1 = df[df.year == year1][\"life\"].dropna()\n",
    "    data2 = df[df.year == year2][\"life\"].dropna()\n",
    "    sns.distplot(data1,hist=True, kde=True, rug=False, bins=40);\n",
    "    sns.distplot(data2,hist=True, kde=True, rug=False, bins=40);\n",
    "    \n",
    "    plt.xlabel('Life Expectancy')\n",
    "    plt.ylabel('Distribution')\n",
    "    plt.title(str(year1) + \" vs \" + str(year2))\n",
    "    \n",
    "hist_plot(1960, 2012)"
   ]
  },
  {
   "cell_type": "code",
   "execution_count": 37,
   "metadata": {
    "collapsed": false,
    "deletable": true,
    "editable": true
   },
   "outputs": [
    {
     "data": {
      "text/plain": [
       "[1960, 1970, 1980, 1990, 2000, 2010]"
      ]
     },
     "execution_count": 37,
     "metadata": {},
     "output_type": "execute_result"
    }
   ],
   "source": [
    "# use list comprehension to to extract decades\n",
    "years = [year for year in range(int(df.year.min()),int(df.year.max())) if year%10==0]\n",
    "years"
   ]
  },
  {
   "cell_type": "code",
   "execution_count": 38,
   "metadata": {
    "collapsed": false,
    "deletable": true,
    "editable": true,
    "scrolled": false
   },
   "outputs": [
    {
     "data": {
      "application/vnd.jupyter.widget-view+json": {
       "model_id": "f6323302ca434b9ca06de922c389b9cd"
      }
     },
     "metadata": {},
     "output_type": "display_data"
    },
    {
     "data": {
      "text/plain": [
       "<function __main__.hist_plot>"
      ]
     },
     "execution_count": 38,
     "metadata": {},
     "output_type": "execute_result"
    },
    {
     "data": {
      "image/png": "[encoded data removed]",
      "text/plain": [
       "<matplotlib.figure.Figure at 0x7f4db06a16d0>"
      ]
     },
     "metadata": {},
     "output_type": "display_data"
    },
    {
     "data": {
      "image/png": "[encoded data removed]",
      "text/plain": [
       "<matplotlib.figure.Figure at 0x7f4db0663450>"
      ]
     },
     "metadata": {},
     "output_type": "display_data"
    },
    {
     "data": {
      "image/png": "[encoded data removed]",
      "text/plain": [
       "<matplotlib.figure.Figure at 0x7f4db05c9950>"
      ]
     },
     "metadata": {},
     "output_type": "display_data"
    }
   ],
   "source": [
    "from ipywidgets import interact\n",
    "interact(hist_plot, year1 =years, year2 =years)"
   ]
  },
  {
   "cell_type": "markdown",
   "metadata": {
    "deletable": true,
    "editable": true
   },
   "source": [
    "<a id=\"loadmore\"></a>\n",
    "### D. Add more data \n",
    "\n",
    "Add more data about development to the DataFrame. For each data set, you'll include the country and year columns, plus a column that contains the key development variable for that data set. For the employment data set, you'll derive a column from three original columns.\n",
    "\n",
    "For each of these data sets, get an access key link for the data and paste the link into the appropriate section of the following cell:\n",
    "* [Population below national poverty line, total, percentage](https://apsportal.ibm.com/exchange/public/entry/view/3a42de810e682d5a83e76fda9fea2bbe)\n",
    "* [Primary school completion rate % of relevant age group by country](https://apsportal.ibm.com/exchange/public/entry/view/97fc6c420265012ae9b5e9439b9ee293)\n",
    "* [Total employment, by economic activity (Thousands)](https://apsportal.ibm.com/exchange/public/entry/view/21c789ae4cfadf52f1bb14b5d4a0b99c)\n",
    "* [Births attended by skilled health staff (% of total) by country](https://apsportal.ibm.com/exchange/public/entry/view/87160cc8374805cb3b07dff4b4f9223e)\n",
    "* [Measles immunization % children 12-23 months by country](https://apsportal.ibm.com/exchange/public/entry/view/752e36ea889eca360e989baa785c2a5e)"
   ]
  },
  {
   "cell_type": "code",
   "execution_count": null,
   "metadata": {
    "collapsed": true,
    "deletable": true,
    "editable": true
   },
   "outputs": [],
   "source": [
    "def clean_year(df):\n",
    "    if df.year.dtype not in (np.int64, np.float64):\n",
    "        df = df[df.year.apply(lambda x: x.isdigit())]\n",
    "    df['year'] = df['year'].astype(float)\n",
    "    return df"
   ]
  },
  {
   "cell_type": "code",
   "execution_count": null,
   "metadata": {
    "collapsed": false,
    "deletable": true,
    "editable": true
   },
   "outputs": [],
   "source": [
    "# Population below national poverty line, total, percentage\n",
    "poverty = pd.read_csv(\"data/UNdata_Export_20151013_112943678-poverty_clean.csv\",usecols=['Country or Area', 'Year','Value'])\n",
    "poverty.columns = ['country', 'year','poverty']\n",
    "\n",
    "# Primary school completion rate % of relevant age group by country\n",
    "school = pd.read_csv(\"data/UNdata_Primary_completion_rate_total (%_relevant_age_group.csv\",usecols=['Country or Area', 'Year','Value'])\n",
    "school.columns = ['country', 'year','school']\n",
    "\n",
    "# Total employment, by economic activity (Thousands)\n",
    "employmentin = pd.read_csv(\"data/Total employment, by economic activity .csv\",usecols=['Country or Area', 'Year','Value','Sex','Subclassification'])\n",
    "employment = employmentin.loc[(employmentin.Sex=='Total men and women')&\n",
    "                              (employmentin.Subclassification=='Total.')]\n",
    "employment = employment.drop('Sex', 1)\n",
    "employment = employment.drop('Subclassification', 1)\n",
    "employment.columns = ['country', 'year','employment']\n",
    "\n",
    "# Births attended by skilled health staff (% of total) by country\n",
    "births = pd.read_csv(\"data/Births attended by skilled health staff (% of total).csv\",usecols=['Country or Area', 'Year','Value'])\n",
    "births.columns = ['country', 'year','births']\n",
    "\n",
    "# Measles immunization % children 12-23 months by country\n",
    "measles = pd.read_csv(\"data/UNdata_Immunization_measles_%_children_12to23_months.csv\",usecols=['Country or Area', 'Year','Value'])\n",
    "measles.columns = ['country', 'year','measles']\n",
    "\n",
    "\n",
    "merge_lists = [poverty, school, employment, births, measles]\n",
    "merge_lists = map(clean_year, merge_lists)\n",
    "\n",
    "for data in merge_lists:\n",
    "    print data.info() \n",
    "    print \"\"  "
   ]
  },
  {
   "cell_type": "code",
   "execution_count": null,
   "metadata": {
    "collapsed": false,
    "deletable": true,
    "editable": true
   },
   "outputs": [],
   "source": [
    "for data in merge_lists:\n",
    "    df = pd.merge(df, data, how='left', sort=True, on=['country','year'])\n",
    "    \n",
    "df.info()"
   ]
  },
  {
   "cell_type": "code",
   "execution_count": null,
   "metadata": {
    "collapsed": false,
    "deletable": true,
    "editable": true
   },
   "outputs": [],
   "source": [
    "avg_df = df.groupby('country').mean().sort_values(\"population\",ascending = False)\n",
    "avg_df.head()"
   ]
  },
  {
   "cell_type": "code",
   "execution_count": null,
   "metadata": {
    "collapsed": false,
    "deletable": true,
    "editable": true
   },
   "outputs": [],
   "source": [
    "avg_df_trim = avg_df[avg_df.school < avg_df.school.quantile(0.99)]\n",
    "\n",
    "fig, ax = plt.subplots()\n",
    "avg_df_trim.plot.scatter(x='school', y='life', s=avg_df['population']*0.00001,\n",
    "                         grid = None,\n",
    "                         figsize=(18,15), edgecolors='white', lw= 1, ax=ax)\n",
    "\n",
    "\n",
    "label_threshold = avg_df_trim[\"population\"].quantile(0.95)\n",
    "for i, txt in enumerate(avg_df_trim.index):\n",
    "    if avg_df_trim.loc[txt].population > label_threshold:\n",
    "        ax.annotate(txt, (avg_df_trim.school[i],avg_df_trim.life[i]), size = 20, color = \"Black\")\n",
    "    \n",
    "plt.grid(False)\n",
    "plt.suptitle('Life Expendency vs Education', fontsize=20)\n",
    "plt.xlabel('Primary Education Completion', fontsize=18)\n",
    "plt.ylabel('Life Expectency', fontsize=16)\n",
    "\n",
    "plt.show()"
   ]
  },
  {
   "cell_type": "markdown",
   "metadata": {
    "deletable": true,
    "editable": true
   },
   "source": [
    "<a id=\"multiindex\"></a>\n",
    "### E. Create a MultiIndex\n",
    "\n",
    "You structure the data for analysis by creating a pandas MultiIndex. A MultiIndex is a hierarchical index that groups the data so that you can easily summarize it.\n",
    "For example, by grouping by country and then by year, you can plot the average value per country for all years instead of plotting a value for every country for every year.\n",
    "\n",
    "Run this cell to create a MultiIndex on the country and the year:"
   ]
  },
  {
   "cell_type": "code",
   "execution_count": null,
   "metadata": {
    "collapsed": false,
    "deletable": true,
    "editable": true,
    "scrolled": false
   },
   "outputs": [],
   "source": [
    "df2 = df.set_index(['country','year'])\n",
    "\n",
    "df2[5000:5020]"
   ]
  },
  {
   "cell_type": "markdown",
   "metadata": {
    "deletable": true,
    "editable": true
   },
   "source": [
    "You can see that for the 1980s, the only data for Afghanistan is about measles immunizations. \n",
    "\n",
    "If you are curious about other variables, you can add more WDI data sets from the Data Science Experience home page to this DataFrame. Not all WDI data is properly formatted. You might need to clean the data before you add it. You can reuse the code samples that you just ran. Make sure that you keep checking the results by running commands like `df2[0:10]` on your tables when you load or change them. "
   ]
  },
  {
   "cell_type": "markdown",
   "metadata": {
    "deletable": true,
    "editable": true
   },
   "source": [
    "<a id=\"check\"></a>\n",
    "## 2. Check the data \n",
    "You can check the data with the [`describe()` method](http://pandas.pydata.org/pandas-docs/stable/generated/pandas.DataFrame.describe.html), which calculates basic summary statistics for each of the columns in the DataFrame (except the country and year columns). \n",
    "\n",
    "Run the following cell to show the number of values (count), the mean, the standard deviation (std), the minimum value, three percentiles, and the maximum value for the columns:  "
   ]
  },
  {
   "cell_type": "code",
   "execution_count": null,
   "metadata": {
    "collapsed": false,
    "deletable": true,
    "editable": true
   },
   "outputs": [],
   "source": [
    "df2.describe()"
   ]
  },
  {
   "cell_type": "markdown",
   "metadata": {
    "deletable": true,
    "editable": true
   },
   "source": [
    "<a id=\"analysis\"></a>\n",
    "## 3. Analyze the data\n",
    "Now that you have enough sample data to work with, you can find the correlation between different variables. You'll create scatter plots that each compare two variables. "
   ]
  },
  {
   "cell_type": "markdown",
   "metadata": {
    "deletable": true,
    "editable": true
   },
   "source": [
    "<a id=\"matplotlib\"></a>\n",
    "### A. Create scatter plots with matplotlib\n",
    "\n",
    "Run the following cell to create two scatter plots that relate the values of population and amount of schooling to life expectancy. Use `matplotlib` library commands to create charts with custom font, figure size, and colors. "
   ]
  },
  {
   "cell_type": "code",
   "execution_count": null,
   "metadata": {
    "collapsed": false,
    "deletable": true,
    "editable": true
   },
   "outputs": [],
   "source": [
    "import matplotlib.pyplot as plt\n",
    "%matplotlib inline\n",
    "\n",
    "plt.rcParams['font.size']=11\n",
    "plt.rcParams['figure.figsize']=[8.0, 3.5]\n",
    "fig, axes=plt.subplots(nrows=1, ncols=2)\n",
    "df2.plot(kind='scatter', x='life', y='population', ax=axes[0], color='Blue');\n",
    "df2.plot(kind='scatter', x='life', y='school', ax=axes[1], color='Red');\n",
    "plt.tight_layout()"
   ]
  },
  {
   "cell_type": "markdown",
   "metadata": {
    "deletable": true,
    "editable": true
   },
   "source": [
    "The chart on the left shows that increased life expectancy leads to higher population. Each dot represents a value for one country for one year.\n",
    "\n",
    "The chart on the right shows that the life expectancy increases with the percentage of school completion. Each dot represents the average value for one country for all years that have data. Notice that the percentage goes up to 200% instead of 100%. This might indicate a problem with the data. You can remove the outliers and keep only the values less than 100% with a command like: `df2[df2.school>100]=float('NaN')`. Even better, you can check where these values in the original data came from. Otherwise, a range like this might indicate an error in your code. In this case, however, the values are correct because of the way the school completion data was calculated: read the description of [Primary school completion rate % of relevant age group by country](https://apsportal.ibm.com/exchange/public/entry/view/97fc6c420265012ae9b5e9439b9ee293). Percentages higher than 100 indicate that older people are finishing primary school."
   ]
  },
  {
   "cell_type": "markdown",
   "metadata": {
    "deletable": true,
    "editable": true
   },
   "source": [
    "<a id=\"matrix\"></a>\n",
    "### B. Create a scatter plot matrix\n",
    "\n",
    "You can create charts that show the relationships between all variables with a scatter plot matrix. Each dot represents the average value for one country for all years that have data. \n",
    "\n",
    "Run the following cell to create scatter plots and histograms from the DataFrame with the `scatter_matrix()` method. Because the data does not cover the same years, group the data by country (with some loss of data). Many variables are percentages, so convert the employment figures to percentages as well. Drop the `population` column, because you don't need it anymore. "
   ]
  },
  {
   "cell_type": "code",
   "execution_count": null,
   "metadata": {
    "collapsed": false,
    "deletable": true,
    "editable": true
   },
   "outputs": [],
   "source": [
    "from pandas.tools.plotting import scatter_matrix\n",
    "\n",
    "# group by country\n",
    "grouped = df2.groupby(level=0)\n",
    "dfgroup = grouped.mean()\n",
    "\n",
    "# employment in % of total population\n",
    "dfgroup['employment']=(dfgroup['employment']*1000.)/dfgroup['population']*100\n",
    "dfgroup=dfgroup.drop('population',1)\n",
    "\n",
    "scatter_matrix(dfgroup,figsize=(12, 12), diagonal='kde');"
   ]
  },
  {
   "cell_type": "code",
   "execution_count": null,
   "metadata": {
    "collapsed": true,
    "deletable": true,
    "editable": true
   },
   "outputs": [],
   "source": []
  }
 ],
 "metadata": {
  "kernelspec": {
   "display_name": "Python 2",
   "language": "python",
   "name": "python2"
  },
  "language_info": {
   "codemirror_mode": {
    "name": "ipython",
    "version": 2
   },
   "file_extension": ".py",
   "mimetype": "text/x-python",
   "name": "python",
   "nbconvert_exporter": "python",
   "pygments_lexer": "ipython2",
   "version": "2.7.13"
  }
 },
 "nbformat": 4,
 "nbformat_minor": 0
}
